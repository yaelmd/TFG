{
 "cells": [
  {
   "cell_type": "code",
   "execution_count": null,
   "id": "98cc3ae3",
   "metadata": {},
   "outputs": [],
   "source": [
    "import os\n",
    "import openai\n",
    "import numpy as np\n",
    "import re\n",
    "openai.api_key = #here goes your API key\n",
    "import pandas as pd\n",
    "import jsonlines\n",
    "import csv\n",
    "import random\n",
    "import json\n",
    "import time"
   ]
  },
  {
   "cell_type": "code",
   "execution_count": null,
   "id": "e315e616",
   "metadata": {},
   "outputs": [],
   "source": [
    "feat_dict = {1: 'uncertainty', 2: 'negation', 3: 'time', 4: 'space', 5: 'vocabulary', 6: 'modality', \n",
    "             7: 'theory of mind', 8: 'reasoning', 9: 'composition', 10: 'anaphora', 11: 'noise'}\n",
    "def template(INSTANCIA, NTEMP):\n",
    "    res= ''\n",
    "    if NTEMP == 1: #uncertainty\n",
    "        res = 'You are a helpful expert on linguistics. You must help me annotate the uncertainty level of a given sentence/s. Note that uncertainty refers to epistemic situations involving imperfect or unknown information. I will first give you a few examples to illustrate this (as few-shot learning), and then you will have to determine the level of uncertainty for a new sentence/s on a scale between 0 and 10.\\nSentence: \"The cat is in the house\"\\nLevel of uncertainty: 1\\nSentence: \"She might not do it again\"\\nLevel of uncertainty: 7\\nSentence: \"He may come this afternoon\":\\nLevel of uncertainty: 3\\nSentence: \"We have no clue about where it is\":\\nLevel of uncertainty: 8\\nSentence: \"It is a fact that a square has four sides\":\\nLevel of uncertainty: 0\\nSentence: \"It is impossible to know who will win the lottery\"\\nLevel of uncertainty: 10\\nSentence: \"' + INSTANCIA + '\"\\nLevel of uncertainty:'\n",
    "    elif NTEMP == 2: #negation\n",
    "        res = 'You are a helpful expert on linguistics. You must help me annotate the negation level of a given sentence/s. Note that negation refers to a denial, contradiction, or negative statement. I will first give you a few examples to illustrate this (as few-shot learning). Then you will have to determine the level of time complexity for a new sentence/s on a scale with levels \"no negation\" (0), \"simple negation\" (1), \"double negation\" (2), \"negation with quantification\" (3), \"very complex negation\" (4).\\nSentence: \\'She has never had a dog\\'\\nLevel of negation: 1\\nSentence: \\'It\\\\\\'s untrue that all houses without windows do not have any light\\'\\nLevel of negation: 4\\nSentence: \\'I don\\\\\\'t know what I don\\\\\\'t know\\'\\nLevel of negation: 2\\nSentence: \\'The suspect is not in the house\\'\\nLevel of negation: 1\\nSentence: \\'The car has not been driven by anyone in the team\\'\\nLevel of negation: 3\\nSentence: \"'+INSTANCIA+'\"\\nLevel of negation:'\n",
    "    elif NTEMP == 3: #time\n",
    "        res = 'You are a helpful expert on linguistics. You must help me annotate the time complexity level of a given sentence/s. Note that a temporal expression in a text is a sequence of tokens (words, numbers and characters) that denote time, duration, or frequency. I will first give you a few examples to illustrate this (as few-shot learning). Then you will have to determine the level of time complexity for a new sentence/s on a scale with levels \"no time expressions\" (0), \"simple temporal expressions\" (1), \"double temporal expressions\" (2), \"complex temporal expressions\" (3).\\nSentence: \"He came before noon\"\\nLevel of time complexity: 1\\nSentence: \"The house is blue\"\\nLevel of time complexity: 0\\nSentence: \"There\\'s a meeting every two weeks\"\\nLevel of time complexity: 3\\nSentence: \"The train arrived ten minutes after the plane has left\"\\nLevel of time complexity: 2\\nSentence: \"'+ INSTANCIA + '\"\\nLevel of time complexity:'\n",
    "    elif NTEMP == 4: #space\n",
    "        res = 'You are a helpful expert on linguistics. You must help me annotate the space complexity level of a given sentence/s. Note that a spatial expression in a text is a sequence of tokens (words, numbers and characters) relating to the position, area, and size of things. I will first give you a few examples to illustrate this (as few-shot learning). Then you will have to determine the level of space complexity for a new sentence/s on a scale with levels \"no space relationships\" (0), \"simple spatial expressions\" (1), \"double spatial expressions\" (2), \"complex spatial expressions\" (3).\\nSentence: \"The pen was on the table\"\\nLevel of space complexity: 1\\nSentence: \"There\\'s no room between the two cars\"\\nLevel of space complexity: 2\\nSentence: \"Tomorrow is a bank holiday\"\\nLevel of space complexity: 0\\nSentence: \"The lamp was hanging from two ropes, one attached to the ceiling and the other to the window\"\\nLevel of space complexity: 5\\nSentence: \"'+ INSTANCIA + '\"\\nLevel of space complexity:'\n",
    "    elif NTEMP == 5: #vocabulary\n",
    "        res = 'You are a helpful expert on linguistics. You must help me annotate the vocabulary level of a given sentence/s. Note that the vocabulary level is measured by a normalised metric of the log freq of words. I will first give you a few examples to illustrate this (as few-shot learning), and then you will have to determine the vocabulary level for a new sentence/s.\\nSentence: “The ball is big”\\nLevel of vocabulary: 0.1219\\nSentence: “Procrastination jeopardises excellence”\\nLevel of vocabulary: 0.4235\\nSentence: “The boy must apologise”\\nLevel of vocabulary: 0.198\\nSentence: “Ignoramus was an ultracrepidarian reposte”\\nLevel of vocabulary: 0.8324\\nSentence: \"' + INSTANCIA + '\"\\nLevel of vocabulary:'\n",
    "    elif NTEMP == 6: #modality\n",
    "        res = 'You are a helpful expert on linguistics. You must help me annotate the level of modality of a given sentence/s. Note that modality refers to a classification of propositions on the basis of whether they claim necessity or possibility or impossibility. I will first give you a few examples to illustrate this (as few-shot learning). Then you will have to determine the level of modality for a new sentence/s on a scale with levels \"no modality\" (0), \"simple modality\" (1), \"double modality\" (2).\\nSentence: \"The woman walked into a bar\"\\nLevel of modality: 0\\nSentence: \"The boy must apologise\"\\nLevel of modality: 1\\nSentence: \"The boy thinks we can\\'t do it\"\\nLevel of modality: 3\\nSentence: \"'+ INSTANCIA + '\"\\nLevel of modality:'\n",
    "    elif NTEMP == 7: #theory of mind\n",
    "        res = 'You are a helpful expert on linguistics. You must help me annotate the level of theory of mind of a given sentence/s. Note that in psychology, theory of mind refers to the capacity to understand other people by ascribing mental states to them. I will first give you a few examples to illustrate this (as few-shot learning). Then you will have to determine the level of theory of mind for a new sentence/s on a scale with levels \"no theory of mind\" (0), \"simple theory of mind\" (1), \"double theory of mind\" (2).\\nSentence: “He came to the reception before noon”\\nLevel of theory of mind: 0\\nSentence: “She didn’t want to buy a car”\\nLevel of theory of mind: 1\\nSentence: “The boy thinks we can’t do it”\\nLevel of theory of mind: 1\\nSentence: “The child feared his parents wanted to punish him”\\nLevel of theory of mind: 2\\nSentence: \"' + INSTANCIA + '\"\\nLevel of theory of mind:'\n",
    "    elif NTEMP == 8: #reasoning\n",
    "        res = 'You are a helpful expert on linguistics. You must help me annotate the level of reasoning of a given sentence/s. Note that reasoning is the process of forming conclusions, judgments, or inferences from facts or premises. I will first give you a few examples to illustrate this (as few-shot learning). Then you will have to determine the level of reasoning for a new sentence/s on a scale with levels \"no reasoning\" (0), \"simple reasoning\" (1), \"complex reasoning\" (2).\\nSentence: “He tripped because of the step”\\nLevel of reasoning: 1\\nSentence: “He came before noon with a bag full of presents”\\nLevel of reasoning: 0\\nSentence: \"'+ INSTANCIA + '\"\\nLevel of reasoning:'\n",
    "    elif NTEMP == 9: #composition\n",
    "        res = 'You are a helpful expert on linguistics. You must help me annotate the level of compositionality of a given sentence/s. In semantics, the principle of compositionality states that the meaning of a complex expression is determined by the meanings of its constituent expressions and the rules used to combine them. I will first give you a few examples to illustrate it (as few-shot learning). Then you will have to determine the level of compositionality for a new sentence/s.\\nSentence: “He came before noon”\\nLevel of compositionality: 0\\nSentence: “He came before she arrived”\\nLevel of compositionality: 1\\nSentence: “The man wearing the tall hat came before she arrived”\\nLevel of compositionality: 2\\nSentence: “He came before noon with a bag full of presents”\\nLevel of compositionality: 0\\nSentence: \"' + INSTANCIA +'\"\\nLevel of compositionality:'\n",
    "    elif NTEMP == 10: #anaphora\n",
    "        res = 'You are a helpful expert on linguistics. You must help me annotate the level of anaphora of a given sentence/s. Note that anaphora is the use of a linguistic unit, such as a pronoun, to refer to the same person or object as another unit, usually a noun. I will first give you a few examples to illustrate this (as few-shot learning). Then you will have to determine the level of anaphora for a new sentence/s on a scale with levels \"no anaphora\" (0), \"simple (one possible referent)\" (1), \"complex (>1 possible referents)\" (2).\\nSentence: “Kim thinks that he is clever”\\nLevel of anaphora: 1\\nSentence: “While Stuart was telling Susan the news, she laughed at him”\\nLevel of anaphora: 2\\nSentence: \"' + INSTANCIA + '\"\\nLevel of anaphora:'\n",
    "    elif NTEMP == 11: #noise\n",
    "        res = 'You are a helpful expert on linguistics. You must help me annotate the level of noise of a given sentence/s. Note that the level of noise is the number of typos per character with respect to the original text with no typos. I will first give you a few examples to illustrate this (as few-shot learning), and then you will have to determine the level of noise for a new sentence/s.\\nSentence: “The ball is big”\\nLevel of noise: 0\\nSentence: “The bll isbige”\\nLevel of noise: 3/13\\nSentence: “The boy bust apologise”\\nLevel of noise: 1/20\\nSentence: \"' + INSTANCIA + '\"\\nLevel of noise:'\n",
    "\n",
    "    return res"
   ]
  },
  {
   "cell_type": "code",
   "execution_count": null,
   "id": "1eb1d1c1",
   "metadata": {},
   "outputs": [],
   "source": [
    "task = 'epistemic_reasoning'\n",
    "benchmark = 'bigbench'\n",
    "df = pd.read_csv(f'./{benchmark}/{task}/{task}_features_sentences.csv')\n",
    "df"
   ]
  },
  {
   "cell_type": "code",
   "execution_count": null,
   "id": "e20e252e",
   "metadata": {},
   "outputs": [],
   "source": [
    "sentence_dict = {}\n",
    "for index,row in df.iterrows():\n",
    "    if row[\"sentence\"] in sentence_dict:\n",
    "        sentence_dict[row[\"sentence\"]].append(index)\n",
    "    else:\n",
    "        sentence_dict[row[\"sentence\"]] = [index]\n",
    "len(sentence_dict)"
   ]
  },
  {
   "cell_type": "code",
   "execution_count": null,
   "id": "50d5b4c6",
   "metadata": {},
   "outputs": [],
   "source": [
    "eng = \"gpt-4\"\n",
    "\n",
    "with open(f'./{benchmark}/{task}/{eng}_{task}.csv', 'a', newline='', encoding='utf-8') as CSV_file:\n",
    "    writer_CSV = csv.writer(CSV_file, delimiter=';')\n",
    "    writer_CSV.writerow(['instance_ID', 'level_ID', 'sentence_ID','sentence','uncertainty','negation','time','space', \n",
    "                         'vocabulary','modality', 'theory of mind','reasoning','composition','anaphora','noise'])\n",
    "    for index,row in df.iterrows():\n",
    "        print(index)\n",
    "        \n",
    "        feat_results = []\n",
    "        \n",
    "        first_index = sentence_dict[row[\"sentence\"]][0]\n",
    "        if first_index < index:\n",
    "            for feature in feat_dict.keys():\n",
    "                row[feat_dict[feature]] = df[feat_dict[feature]].iloc[first_index]\n",
    "                df.iloc[index] = row\n",
    "                feat_results.append(df[feat_dict[feature]].iloc[first_index])\n",
    "        else:  \n",
    "            for feature in feat_dict.keys():\n",
    "                print('Feature: '+str(feature))\n",
    "                prompt = template(row[\"sentence\"], feature)\n",
    "                ok = False\n",
    "                while not ok:  # to avoid \"ServiceUnavailableError: The server is overloaded or not ready yet.\"\n",
    "                    try:\n",
    "                        response = openai.ChatCompletion.create(\n",
    "                                    model=\"gpt-4\",\n",
    "                                    messages=[\n",
    "                                              {\"role\": \"user\", \"content\": prompt}\n",
    "                                             ],\n",
    "                                    max_tokens = 10,\n",
    "                                    temperature = 0\n",
    "                                    )\n",
    "                        ok = True\n",
    "\n",
    "                    except Exception as ex:\n",
    "                        print(\"error\", ex)\n",
    "                        print(\"too much request, sleep for 5 seconds\")\n",
    "                        time.sleep(5)\n",
    "\n",
    "                response_text = response[\"choices\"][0][\"message\"]\n",
    "                content = json.loads(str(response_text))['content']\n",
    "                row[feat_dict[feature]] = content\n",
    "                df.iloc[index] = row\n",
    "                feat_results.append(content)\n",
    "                \n",
    "        writer_CSV.writerow([row[\"instance_ID\"],row[\"level_ID\"],row[\"sentence_ID\"],row[\"sentence\"],feat_results[0],\n",
    "                            feat_results[1],feat_results[2],feat_results[3],feat_results[4],feat_results[5],feat_results[6],\n",
    "                            feat_results[7],feat_results[8],feat_results[9],feat_results[10]])"
   ]
  }
 ],
 "metadata": {
  "kernelspec": {
   "display_name": "Python 3 (ipykernel)",
   "language": "python",
   "name": "python3"
  },
  "language_info": {
   "codemirror_mode": {
    "name": "ipython",
    "version": 3
   },
   "file_extension": ".py",
   "mimetype": "text/x-python",
   "name": "python",
   "nbconvert_exporter": "python",
   "pygments_lexer": "ipython3",
   "version": "3.9.12"
  }
 },
 "nbformat": 4,
 "nbformat_minor": 5
}
